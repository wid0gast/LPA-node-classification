{
 "cells": [
  {
   "cell_type": "code",
   "execution_count": 92,
   "metadata": {},
   "outputs": [],
   "source": [
    "import numpy as np\n",
    "import pandas as pd\n",
    "import networkx as nx\n",
    "import torch\n",
    "import torch.nn as nn\n",
    "from tqdm import tqdm, trange\n",
    "import matplotlib.pyplot as plt"
   ]
  },
  {
   "cell_type": "code",
   "execution_count": 93,
   "metadata": {},
   "outputs": [],
   "source": [
    "from data_loader import load_data, load_npz, load_random\n",
    "from LPA import LPA\n",
    "from utils import *"
   ]
  },
  {
   "cell_type": "code",
   "execution_count": 94,
   "metadata": {},
   "outputs": [],
   "source": [
    "dataset = 'R8'"
   ]
  },
  {
   "cell_type": "code",
   "execution_count": 95,
   "metadata": {},
   "outputs": [],
   "source": [
    "adj, adj_n, features, y_train, y_val, y_test, train_mask, val_mask, test_mask, train_size, test_size = load_corpus(dataset)"
   ]
  },
  {
   "cell_type": "code",
   "execution_count": 96,
   "metadata": {},
   "outputs": [],
   "source": [
    "train_size = int(y_train.sum())\n",
    "val_size = int(y_val.sum())\n",
    "\n",
    "vocab_size = adj.shape[0] - train_size - val_size - test_size"
   ]
  },
  {
   "cell_type": "code",
   "execution_count": 97,
   "metadata": {},
   "outputs": [
    {
     "name": "stdout",
     "output_type": "stream",
     "text": [
      "CPU\n"
     ]
    }
   ],
   "source": [
    "if torch.cuda.is_available():\n",
    "    device = torch.device('cuda')\n",
    "    print(torch.cuda.get_device_name(0))\n",
    "else:\n",
    "    device = torch.device('cpu')\n",
    "    print(\"CPU\")"
   ]
  },
  {
   "cell_type": "code",
   "execution_count": 98,
   "metadata": {},
   "outputs": [],
   "source": [
    "adj_final = torch.load(dataset + '_adj_final.pt', map_location=device)"
   ]
  },
  {
   "cell_type": "code",
   "execution_count": 99,
   "metadata": {},
   "outputs": [],
   "source": [
    "epochs = 10"
   ]
  },
  {
   "cell_type": "code",
   "execution_count": 100,
   "metadata": {},
   "outputs": [],
   "source": [
    "def get_mask(idx, length):\n",
    "    mask = np.zeros(length)\n",
    "    mask[idx] = 1\n",
    "    return np.array(mask, dtype=np.float64)"
   ]
  },
  {
   "cell_type": "code",
   "execution_count": 101,
   "metadata": {},
   "outputs": [
    {
     "data": {
      "text/plain": [
       "(7674,)"
      ]
     },
     "execution_count": 101,
     "metadata": {},
     "output_type": "execute_result"
    }
   ],
   "source": [
    "rows = np.concatenate([np.arange(train_size + val_size), np.arange(-test_size, 0)])\n",
    "rows.shape"
   ]
  },
  {
   "cell_type": "code",
   "execution_count": 102,
   "metadata": {},
   "outputs": [
    {
     "data": {
      "text/plain": [
       "(7674,)"
      ]
     },
     "execution_count": 102,
     "metadata": {},
     "output_type": "execute_result"
    }
   ],
   "source": [
    "cols = rows.copy()\n",
    "cols.shape"
   ]
  },
  {
   "cell_type": "code",
   "execution_count": 109,
   "metadata": {},
   "outputs": [],
   "source": [
    "adj_subset = adj_final[rows][:, cols]\n",
    "# adj_subset = adj_final"
   ]
  },
  {
   "cell_type": "code",
   "execution_count": 116,
   "metadata": {},
   "outputs": [],
   "source": [
    "model = LPA(adj_subset)"
   ]
  },
  {
   "cell_type": "code",
   "execution_count": 117,
   "metadata": {},
   "outputs": [],
   "source": [
    "criterion = nn.CrossEntropyLoss()\n",
    "optimizer = torch.optim.Adam(model.parameters(), lr=0.1)"
   ]
  },
  {
   "cell_type": "code",
   "execution_count": 118,
   "metadata": {},
   "outputs": [],
   "source": [
    "all_train = torch.tensor(y_train[rows], dtype=torch.float64).to(device)\n",
    "val_input = torch.tensor(y_train[rows], dtype=torch.float64).to(device)\n",
    "test_input = torch.tensor(y_train[rows] + y_val[rows], dtype=torch.float64).to(device)"
   ]
  },
  {
   "cell_type": "code",
   "execution_count": 119,
   "metadata": {},
   "outputs": [],
   "source": [
    "train_labels = torch.argmax(torch.tensor(y_train[rows]), dim=1)\n",
    "val_labels = torch.argmax(torch.tensor(y_val[rows]), dim=1)\n",
    "test_labels = torch.argmax(torch.tensor(y_test[rows]), dim=1)"
   ]
  },
  {
   "cell_type": "code",
   "execution_count": 114,
   "metadata": {},
   "outputs": [
    {
     "name": "stdout",
     "output_type": "stream",
     "text": [
      "\n",
      "Epoch 0: \n",
      "Training Loss: 1.4079054857807642\tTraining Accuracy: 0.866113007068634\n"
     ]
    },
    {
     "name": "stderr",
     "output_type": "stream",
     "text": [
      "C:\\Users\\Shaz\\AppData\\Local\\Temp/ipykernel_13284/632694266.py:12: UserWarning: To copy construct from a tensor, it is recommended to use sourceTensor.clone().detach() or sourceTensor.clone().detach().requires_grad_(True), rather than torch.tensor(sourceTensor).\n",
      "  train_acc = torch.eq(preds[:train_size], torch.tensor(train_labels[:train_size])).sum() / train_size\n"
     ]
    },
    {
     "name": "stdout",
     "output_type": "stream",
     "text": [
      "Validation Loss: 1.4035708800234679\tValidation Accuracy: 0.8704379796981812\n",
      "\n",
      "Epoch 1: \n",
      "Training Loss: 1.4042409778909155\tTraining Accuracy: 0.8697589635848999\n",
      "Validation Loss: 1.4035708800234679\tValidation Accuracy: 0.8704379796981812\n",
      "\n",
      "Epoch 2: \n",
      "Training Loss: 1.4056677383945069\tTraining Accuracy: 0.8683410882949829\n",
      "Validation Loss: 1.4035708800234679\tValidation Accuracy: 0.8704379796981812\n",
      "\n",
      "Epoch 3: \n",
      "Training Loss: 1.3987809644956826\tTraining Accuracy: 0.8752278685569763\n",
      "Validation Loss: 1.4035708800234679\tValidation Accuracy: 0.8704379796981812\n",
      "\n",
      "Epoch 4: \n",
      "Training Loss: 1.4001988301512827\tTraining Accuracy: 0.8738099932670593\n",
      "Validation Loss: 1.4035708800234679\tValidation Accuracy: 0.8704379796981812\n",
      "\n",
      "Epoch 5: \n",
      "Training Loss: 1.3995905983157033\tTraining Accuracy: 0.8744176626205444\n",
      "Validation Loss: 1.4035708800234679\tValidation Accuracy: 0.8704379796981812\n",
      "\n",
      "Epoch 6: \n",
      "Training Loss: 1.407697249038104\tTraining Accuracy: 0.8663156032562256\n",
      "Validation Loss: 1.4035708800234679\tValidation Accuracy: 0.8704379796981812\n",
      "\n",
      "Epoch 7: \n",
      "Training Loss: 1.415001365434493\tTraining Accuracy: 0.8590236902236938\n",
      "Validation Loss: 1.4035708800234679\tValidation Accuracy: 0.8704379796981812\n",
      "\n",
      "Epoch 8: \n",
      "Training Loss: 1.402224350907574\tTraining Accuracy: 0.871784508228302\n",
      "Validation Loss: 1.4035708800234679\tValidation Accuracy: 0.8704379796981812\n",
      "\n",
      "Epoch 9: \n",
      "Training Loss: 1.4081890457759094\tTraining Accuracy: 0.8659104704856873\n",
      "Validation Loss: 1.4035708800234679\tValidation Accuracy: 0.8704379796981812\n"
     ]
    }
   ],
   "source": [
    "for epoch in range(epochs):\n",
    "    model.train()\n",
    "    train_indices = np.random.choice(list(range(train_size)), size=int(train_size * 0.8), replace=False)\n",
    "    train_mask = get_mask(train_indices, adj_subset.shape[0])\n",
    "    train_input = all_train * train_mask[:, None]\n",
    "    print(f'\\nEpoch {epoch}: ')\n",
    "    outputs = model(train_input)\n",
    "    loss = criterion(outputs[:train_size], train_labels[:train_size])\n",
    "    # train_acc = np.sum(torch.argmax(outputs, dim=1) == train_target)\n",
    "\n",
    "    preds = torch.argmax(outputs, dim=1)\n",
    "    train_acc = torch.eq(preds[:train_size], torch.tensor(train_labels[:train_size])).sum() / train_size\n",
    "    print(f'Training Loss: {loss}\\tTraining Accuracy: {train_acc}')\n",
    "\n",
    "    optimizer.zero_grad()\n",
    "    loss.backward()\n",
    "    optimizer.step()\n",
    "\n",
    "    model.eval()\n",
    "    preds = model(val_input)\n",
    "    loss = criterion(preds[train_size: train_size+val_size], val_labels[train_size: train_size+val_size])\n",
    "    preds = torch.argmax(preds, dim=1)\n",
    "    val_acc = torch.eq(preds[train_size: train_size+val_size], val_labels[train_size: train_size+val_size]).sum() / val_size\n",
    "    print(f'Validation Loss: {loss}\\tValidation Accuracy: {val_acc}')"
   ]
  },
  {
   "cell_type": "code",
   "execution_count": 120,
   "metadata": {},
   "outputs": [
    {
     "name": "stdout",
     "output_type": "stream",
     "text": [
      "Test Accuracy:  tensor(0.8693)\n"
     ]
    }
   ],
   "source": [
    "test_preds = model(test_input)\n",
    "test_preds = torch.argmax(test_preds, dim=1)\n",
    "test_acc = torch.eq(test_preds[-1 * test_size:], test_labels[-1 * test_size:]).sum() / test_size\n",
    "print(\"Test Accuracy: \", test_acc)"
   ]
  },
  {
   "cell_type": "code",
   "execution_count": null,
   "metadata": {},
   "outputs": [],
   "source": []
  }
 ],
 "metadata": {
  "kernelspec": {
   "display_name": "Python 3",
   "language": "python",
   "name": "python3"
  },
  "language_info": {
   "codemirror_mode": {
    "name": "ipython",
    "version": 3
   },
   "file_extension": ".py",
   "mimetype": "text/x-python",
   "name": "python",
   "nbconvert_exporter": "python",
   "pygments_lexer": "ipython3",
   "version": "3.9.7"
  },
  "orig_nbformat": 4
 },
 "nbformat": 4,
 "nbformat_minor": 2
}
