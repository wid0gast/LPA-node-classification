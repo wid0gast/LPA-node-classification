{
 "cells": [
  {
   "cell_type": "code",
   "execution_count": 2,
   "metadata": {},
   "outputs": [],
   "source": [
    "import numpy as np\n",
    "import pandas as pd\n",
    "import networkx as nx\n",
    "import torch\n",
    "import torch.nn as nn\n",
    "from tqdm import tqdm, trange\n",
    "import matplotlib.pyplot as plt"
   ]
  },
  {
   "cell_type": "code",
   "execution_count": 33,
   "metadata": {},
   "outputs": [],
   "source": [
    "from data_loader import load_data, load_npz, load_random\n",
    "from LPA import LPA\n",
    "from utils import *"
   ]
  },
  {
   "cell_type": "code",
   "execution_count": 4,
   "metadata": {},
   "outputs": [],
   "source": [
    "dataset = 'R8'"
   ]
  },
  {
   "cell_type": "code",
   "execution_count": 5,
   "metadata": {},
   "outputs": [],
   "source": [
    "adj, adj_n, features, y_train, y_val, y_test, train_mask, val_mask, test_mask, train_size, test_size = load_corpus(dataset)"
   ]
  },
  {
   "cell_type": "code",
   "execution_count": 6,
   "metadata": {},
   "outputs": [
    {
     "data": {
      "text/plain": [
       "4937.0"
      ]
     },
     "execution_count": 6,
     "metadata": {},
     "output_type": "execute_result"
    }
   ],
   "source": [
    "y_train.sum()"
   ]
  },
  {
   "cell_type": "code",
   "execution_count": 7,
   "metadata": {},
   "outputs": [],
   "source": [
    "train_size = int(y_train.sum())\n",
    "val_size = int(y_val.sum())\n",
    "\n",
    "vocab_size = adj.shape[0] - train_size - val_size - test_size"
   ]
  },
  {
   "cell_type": "code",
   "execution_count": 8,
   "metadata": {},
   "outputs": [
    {
     "name": "stdout",
     "output_type": "stream",
     "text": [
      "NVIDIA GeForce RTX 3060 Laptop GPU\n"
     ]
    }
   ],
   "source": [
    "if torch.cuda.is_available():\n",
    "    device = torch.device('cuda')\n",
    "    print(torch.cuda.get_device_name(0))\n",
    "else:\n",
    "    device = torch.device('cpu')\n",
    "    print(\"CPU\")"
   ]
  },
  {
   "cell_type": "code",
   "execution_count": 9,
   "metadata": {},
   "outputs": [],
   "source": [
    "adj_final = torch.load(dataset + '_adj_final.pt', map_location=device)"
   ]
  },
  {
   "cell_type": "code",
   "execution_count": 10,
   "metadata": {},
   "outputs": [],
   "source": [
    "epochs = 10"
   ]
  },
  {
   "cell_type": "code",
   "execution_count": 11,
   "metadata": {},
   "outputs": [],
   "source": [
    "def get_mask(idx, length):\n",
    "    mask = np.zeros(length)\n",
    "    mask[idx] = 1\n",
    "    return np.array(mask, dtype=np.float64)"
   ]
  },
  {
   "cell_type": "code",
   "execution_count": 12,
   "metadata": {},
   "outputs": [
    {
     "data": {
      "text/plain": [
       "(7674,)"
      ]
     },
     "execution_count": 12,
     "metadata": {},
     "output_type": "execute_result"
    }
   ],
   "source": [
    "rows = np.concatenate([np.arange(train_size + val_size), np.arange(-test_size, 0)])\n",
    "rows.shape"
   ]
  },
  {
   "cell_type": "code",
   "execution_count": 13,
   "metadata": {},
   "outputs": [
    {
     "data": {
      "text/plain": [
       "(7674,)"
      ]
     },
     "execution_count": 13,
     "metadata": {},
     "output_type": "execute_result"
    }
   ],
   "source": [
    "cols = rows.copy()\n",
    "cols.shape"
   ]
  },
  {
   "cell_type": "code",
   "execution_count": 14,
   "metadata": {},
   "outputs": [],
   "source": [
    "adj_subset = adj_final[rows][:, cols]\n",
    "# adj_subset = adj_final"
   ]
  },
  {
   "cell_type": "code",
   "execution_count": 15,
   "metadata": {},
   "outputs": [],
   "source": [
    "adj_subset = adj_subset - torch.diag(torch.diag(adj_subset))"
   ]
  },
  {
   "cell_type": "code",
   "execution_count": 16,
   "metadata": {},
   "outputs": [],
   "source": [
    "# torch.diag(torch.diag(adj_subset))"
   ]
  },
  {
   "cell_type": "code",
   "execution_count": 17,
   "metadata": {},
   "outputs": [
    {
     "data": {
      "text/plain": [
       "tensor([[0.0000e+00, 1.9356e+02, 2.4833e+01,  ..., 3.0130e+00, 1.3880e+01,\n",
       "         7.3485e-03],\n",
       "        [1.9356e+02, 0.0000e+00, 2.3631e+02,  ..., 6.4734e+01, 2.4176e+01,\n",
       "         5.9222e+00],\n",
       "        [2.4833e+01, 2.3631e+02, 0.0000e+00,  ..., 1.3724e+01, 0.0000e+00,\n",
       "         7.3485e-03],\n",
       "        ...,\n",
       "        [3.0130e+00, 6.4734e+01, 1.3724e+01,  ..., 0.0000e+00, 0.0000e+00,\n",
       "         2.3954e+01],\n",
       "        [1.3880e+01, 2.4176e+01, 0.0000e+00,  ..., 0.0000e+00, 0.0000e+00,\n",
       "         0.0000e+00],\n",
       "        [7.3485e-03, 5.9222e+00, 7.3485e-03,  ..., 2.3954e+01, 0.0000e+00,\n",
       "         0.0000e+00]], device='cuda:0', dtype=torch.float64)"
      ]
     },
     "execution_count": 17,
     "metadata": {},
     "output_type": "execute_result"
    }
   ],
   "source": [
    "adj_subset"
   ]
  },
  {
   "cell_type": "code",
   "execution_count": 144,
   "metadata": {},
   "outputs": [],
   "source": [
    "adj_subset = adj_subset / torch.sum(adj_subset, dim=1, keepdim=True)"
   ]
  },
  {
   "cell_type": "code",
   "execution_count": 18,
   "metadata": {},
   "outputs": [
    {
     "data": {
      "text/plain": [
       "tensor([[0., 0., 0.,  ..., 0., 0., 0.],\n",
       "        [0., 0., 0.,  ..., 0., 0., 0.],\n",
       "        [0., 0., 0.,  ..., 0., 0., 0.],\n",
       "        ...,\n",
       "        [0., 0., 0.,  ..., 0., 0., 0.],\n",
       "        [0., 0., 0.,  ..., 0., 0., 0.],\n",
       "        [0., 0., 0.,  ..., 0., 0., 0.]], device='cuda:0', dtype=torch.float64)"
      ]
     },
     "execution_count": 18,
     "metadata": {},
     "output_type": "execute_result"
    }
   ],
   "source": [
    "adj_subset - adj_subset.T"
   ]
  },
  {
   "cell_type": "code",
   "execution_count": 119,
   "metadata": {},
   "outputs": [
    {
     "data": {
      "text/plain": [
       "176.06772860094713"
      ]
     },
     "execution_count": 119,
     "metadata": {},
     "output_type": "execute_result"
    }
   ],
   "source": [
    "np.max(adj_n.A)"
   ]
  },
  {
   "cell_type": "code",
   "execution_count": 19,
   "metadata": {},
   "outputs": [
    {
     "data": {
      "text/plain": [
       "tensor([[0.0000e+00, 1.9356e+02, 2.4833e+01,  ..., 3.0130e+00, 1.3880e+01,\n",
       "         7.3485e-03],\n",
       "        [1.9356e+02, 0.0000e+00, 2.3631e+02,  ..., 6.4734e+01, 2.4176e+01,\n",
       "         5.9222e+00],\n",
       "        [2.4833e+01, 2.3631e+02, 0.0000e+00,  ..., 1.3724e+01, 0.0000e+00,\n",
       "         7.3485e-03],\n",
       "        ...,\n",
       "        [3.0130e+00, 6.4734e+01, 1.3724e+01,  ..., 0.0000e+00, 0.0000e+00,\n",
       "         2.3954e+01],\n",
       "        [1.3880e+01, 2.4176e+01, 0.0000e+00,  ..., 0.0000e+00, 0.0000e+00,\n",
       "         0.0000e+00],\n",
       "        [7.3485e-03, 5.9222e+00, 7.3485e-03,  ..., 2.3954e+01, 0.0000e+00,\n",
       "         0.0000e+00]], device='cuda:0', dtype=torch.float64)"
      ]
     },
     "execution_count": 19,
     "metadata": {},
     "output_type": "execute_result"
    }
   ],
   "source": [
    "adj_subset"
   ]
  },
  {
   "cell_type": "code",
   "execution_count": 20,
   "metadata": {},
   "outputs": [
    {
     "data": {
      "text/plain": [
       "array([[0.78475308, 0.02345429, 0.95095028, ..., 0.22065812, 0.24702502,\n",
       "        0.24430901],\n",
       "       [0.21838327, 0.32350155, 0.56483935, ..., 0.26789303, 0.96283899,\n",
       "        0.90467141],\n",
       "       [0.44932207, 0.9973103 , 0.40523261, ..., 0.97192255, 0.19665006,\n",
       "        0.92915418],\n",
       "       ...,\n",
       "       [0.10076742, 0.30328208, 0.02530284, ..., 0.95864615, 0.42344195,\n",
       "        0.09259884],\n",
       "       [0.97906408, 0.63835324, 0.94200984, ..., 0.33621052, 0.74593298,\n",
       "        0.49963645],\n",
       "       [0.32079951, 0.39525113, 0.62779704, ..., 0.67962962, 0.43407657,\n",
       "        0.2695939 ]])"
      ]
     },
     "execution_count": 20,
     "metadata": {},
     "output_type": "execute_result"
    }
   ],
   "source": [
    "adj_rand = np.random.rand(adj_subset.shape[0], adj_subset.shape[0])\n",
    "adj_rand"
   ]
  },
  {
   "cell_type": "code",
   "execution_count": 154,
   "metadata": {},
   "outputs": [
    {
     "data": {
      "text/plain": [
       "tensor([[0.0000e+00, 1.1853e-04, 2.0053e-04,  ..., 2.3773e-04, 4.0318e-05,\n",
       "         5.8116e-05],\n",
       "        [1.8709e-04, 0.0000e+00, 3.4282e-05,  ..., 1.5275e-04, 1.0604e-04,\n",
       "         2.3928e-04],\n",
       "        [2.4825e-04, 1.8632e-04, 0.0000e+00,  ..., 2.7557e-07, 1.6056e-04,\n",
       "         1.5020e-04],\n",
       "        ...,\n",
       "        [1.2649e-05, 1.9589e-04, 1.2863e-05,  ..., 0.0000e+00, 1.5135e-04,\n",
       "         1.3827e-04],\n",
       "        [6.2305e-05, 2.6294e-06, 1.0366e-04,  ..., 8.8925e-05, 0.0000e+00,\n",
       "         1.9198e-04],\n",
       "        [2.2914e-04, 2.5274e-04, 1.1023e-05,  ..., 1.1512e-04, 7.5519e-05,\n",
       "         0.0000e+00]], dtype=torch.float64)"
      ]
     },
     "execution_count": 154,
     "metadata": {},
     "output_type": "execute_result"
    }
   ],
   "source": [
    "adj_rand = torch.tensor(adj_rand) - torch.diag(torch.diag(torch.tensor(adj_rand)))\n",
    "adj_rand = adj_rand / torch.sum(adj_rand, dim=1, keepdim=True)\n",
    "adj_rand"
   ]
  },
  {
   "cell_type": "code",
   "execution_count": 34,
   "metadata": {},
   "outputs": [
    {
     "name": "stderr",
     "output_type": "stream",
     "text": [
      "c:\\Users\\Shaz\\LPA-node-classification\\torch_src\\LPA.py:22: UserWarning: To copy construct from a tensor, it is recommended to use sourceTensor.clone().detach() or sourceTensor.clone().detach().requires_grad_(True), rather than torch.tensor(sourceTensor).\n",
      "  self.adj = torch.tensor(adj, dtype=torch.float64, requires_grad=True)\n"
     ]
    }
   ],
   "source": [
    "model = LPA(adj_subset)"
   ]
  },
  {
   "cell_type": "code",
   "execution_count": 35,
   "metadata": {},
   "outputs": [],
   "source": [
    "criterion = nn.CrossEntropyLoss()\n",
    "optimizer = torch.optim.Adam(model.parameters(), lr=1e+6)"
   ]
  },
  {
   "cell_type": "code",
   "execution_count": 36,
   "metadata": {},
   "outputs": [],
   "source": [
    "all_train = torch.tensor(y_train[rows], dtype=torch.float64).to(device)\n",
    "val_input = torch.tensor(y_train[rows], dtype=torch.float64).to(device)\n",
    "test_input = torch.tensor(y_train[rows] + y_val[rows], dtype=torch.float64).to(device)"
   ]
  },
  {
   "cell_type": "code",
   "execution_count": 37,
   "metadata": {},
   "outputs": [],
   "source": [
    "train_labels = torch.argmax(torch.tensor(y_train[rows]), dim=1).to(device)\n",
    "val_labels = torch.argmax(torch.tensor(y_val[rows]), dim=1).to(device)\n",
    "test_labels = torch.argmax(torch.tensor(y_test[rows]), dim=1).to(device)"
   ]
  },
  {
   "cell_type": "code",
   "execution_count": 38,
   "metadata": {},
   "outputs": [
    {
     "data": {
      "text/plain": [
       "torch.Tensor"
      ]
     },
     "execution_count": 38,
     "metadata": {},
     "output_type": "execute_result"
    }
   ],
   "source": [
    "type(train_mask)"
   ]
  },
  {
   "cell_type": "code",
   "execution_count": 39,
   "metadata": {},
   "outputs": [
    {
     "name": "stdout",
     "output_type": "stream",
     "text": [
      "\n",
      "Epoch 0: \n",
      "tensor(1.9365e+09, device='cuda:0', dtype=torch.float64,\n",
      "       grad_fn=<SumBackward0>)\n",
      "Training Loss: 1.7379766143615853\tTraining Accuracy: 0.8531496524810791\n"
     ]
    },
    {
     "name": "stderr",
     "output_type": "stream",
     "text": [
      "C:\\Users\\Shaz\\AppData\\Local\\Temp/ipykernel_21940/2680099027.py:11: UserWarning: To copy construct from a tensor, it is recommended to use sourceTensor.clone().detach() or sourceTensor.clone().detach().requires_grad_(True), rather than torch.tensor(sourceTensor).\n",
      "  loss = criterion(outputs * torch.tensor(train_mask[:, None]), train_labels * torch.tensor(train_mask, dtype=torch.int32))\n",
      "C:\\Users\\Shaz\\AppData\\Local\\Temp/ipykernel_21940/2680099027.py:15: UserWarning: To copy construct from a tensor, it is recommended to use sourceTensor.clone().detach() or sourceTensor.clone().detach().requires_grad_(True), rather than torch.tensor(sourceTensor).\n",
      "  train_acc = torch.eq(preds[:train_size], torch.tensor(train_labels[:train_size])).sum() / train_size\n"
     ]
    },
    {
     "name": "stdout",
     "output_type": "stream",
     "text": [
      "tensor(49826603.0068, device='cuda:0', dtype=torch.float64,\n",
      "       grad_fn=<SumBackward0>)\n",
      "Validation Loss: 1.403570880023469\tValidation Accuracy: 0.8704379200935364\n",
      "\n",
      "Epoch 1: \n",
      "tensor(49826603.0068, device='cuda:0', dtype=torch.float64,\n",
      "       grad_fn=<SumBackward0>)\n",
      "Training Loss: 1.7406801886021412\tTraining Accuracy: 0.853959858417511\n",
      "tensor(-1.8345e+09, device='cuda:0', dtype=torch.float64,\n",
      "       grad_fn=<SumBackward0>)\n",
      "Validation Loss: 1.403570880023469\tValidation Accuracy: 0.8704379200935364\n",
      "\n",
      "Epoch 2: \n",
      "tensor(-1.8345e+09, device='cuda:0', dtype=torch.float64,\n",
      "       grad_fn=<SumBackward0>)\n",
      "Training Loss: 1.7384650295831454\tTraining Accuracy: 0.8604415655136108\n",
      "tensor(-3.2765e+09, device='cuda:0', dtype=torch.float64,\n",
      "       grad_fn=<SumBackward0>)\n",
      "Validation Loss: 1.403570880023469\tValidation Accuracy: 0.8704379200935364\n",
      "\n",
      "Epoch 3: \n",
      "tensor(-3.2765e+09, device='cuda:0', dtype=torch.float64,\n",
      "       grad_fn=<SumBackward0>)\n",
      "Training Loss: 1.7378134792186613\tTraining Accuracy: 0.8559854030609131\n",
      "tensor(-4.4400e+09, device='cuda:0', dtype=torch.float64,\n",
      "       grad_fn=<SumBackward0>)\n",
      "Validation Loss: 1.403570880023469\tValidation Accuracy: 0.8704379200935364\n",
      "\n",
      "Epoch 4: \n",
      "tensor(-4.4400e+09, device='cuda:0', dtype=torch.float64,\n",
      "       grad_fn=<SumBackward0>)\n",
      "Training Loss: 1.7382044067594649\tTraining Accuracy: 0.8533522486686707\n",
      "tensor(-5.5236e+09, device='cuda:0', dtype=torch.float64,\n",
      "       grad_fn=<SumBackward0>)\n",
      "Validation Loss: 1.403570880023469\tValidation Accuracy: 0.8704379200935364\n",
      "\n",
      "Epoch 5: \n",
      "tensor(-5.5236e+09, device='cuda:0', dtype=torch.float64,\n",
      "       grad_fn=<SumBackward0>)\n",
      "Training Loss: 1.7354678995578294\tTraining Accuracy: 0.8640874624252319\n",
      "tensor(-6.4471e+09, device='cuda:0', dtype=torch.float64,\n",
      "       grad_fn=<SumBackward0>)\n",
      "Validation Loss: 1.403570880023469\tValidation Accuracy: 0.8704379200935364\n",
      "\n",
      "Epoch 6: \n",
      "tensor(-6.4471e+09, device='cuda:0', dtype=torch.float64,\n",
      "       grad_fn=<SumBackward0>)\n",
      "Training Loss: 1.738465029571656\tTraining Accuracy: 0.8549726605415344\n",
      "tensor(-7.2454e+09, device='cuda:0', dtype=torch.float64,\n",
      "       grad_fn=<SumBackward0>)\n",
      "Validation Loss: 1.403570880023469\tValidation Accuracy: 0.8704379200935364\n",
      "\n",
      "Epoch 7: \n",
      "tensor(-7.2454e+09, device='cuda:0', dtype=torch.float64,\n",
      "       grad_fn=<SumBackward0>)\n",
      "Training Loss: 1.7378849652976611\tTraining Accuracy: 0.8598338961601257\n",
      "tensor(-8.0505e+09, device='cuda:0', dtype=torch.float64,\n",
      "       grad_fn=<SumBackward0>)\n",
      "Validation Loss: 1.403570880023469\tValidation Accuracy: 0.8704379200935364\n",
      "\n",
      "Epoch 8: \n",
      "tensor(-8.0505e+09, device='cuda:0', dtype=torch.float64,\n",
      "       grad_fn=<SumBackward0>)\n",
      "Training Loss: 1.7359891369586355\tTraining Accuracy: 0.8604415655136108\n",
      "tensor(-8.7581e+09, device='cuda:0', dtype=torch.float64,\n",
      "       grad_fn=<SumBackward0>)\n",
      "Validation Loss: 1.403570880023469\tValidation Accuracy: 0.8704379200935364\n",
      "\n",
      "Epoch 9: \n",
      "tensor(-8.7581e+09, device='cuda:0', dtype=torch.float64,\n",
      "       grad_fn=<SumBackward0>)\n",
      "Training Loss: 1.7365069100356867\tTraining Accuracy: 0.8586185574531555\n",
      "tensor(-9.8193e+09, device='cuda:0', dtype=torch.float64,\n",
      "       grad_fn=<SumBackward0>)\n",
      "Validation Loss: 1.403570880023469\tValidation Accuracy: 0.8704379200935364\n"
     ]
    }
   ],
   "source": [
    "for epoch in range(epochs):\n",
    "    model.train()\n",
    "    # print(model)\n",
    "    # for p in model.parameters():\n",
    "    #     print(p.name, p.data, p.requires_grad)\n",
    "    train_indices = np.random.choice(list(range(train_size)), size=int(train_size * 0.8), replace=False)\n",
    "    train_mask = torch.tensor(get_mask(train_indices, adj_subset.shape[0])).to(device)\n",
    "    train_input = all_train * train_mask[:, None]\n",
    "    print(f'\\nEpoch {epoch}: ')\n",
    "    outputs = model(train_input)\n",
    "    loss = criterion(outputs * torch.tensor(train_mask[:, None]), train_labels * torch.tensor(train_mask, dtype=torch.int32))\n",
    "    # train_acc = np.sum(torch.argmax(outputs, dim=1) == train_target)\n",
    "\n",
    "    preds = torch.argmax(outputs, dim=1)\n",
    "    train_acc = torch.eq(preds[:train_size], torch.tensor(train_labels[:train_size])).sum() / train_size\n",
    "    print(f'Training Loss: {loss}\\tTraining Accuracy: {train_acc}')\n",
    "\n",
    "    optimizer.zero_grad()\n",
    "    # print(model.lpa_layer.adj.grad)\n",
    "    loss.backward()\n",
    "    # plt.hist(model.lpa_layer.adj.grad)\n",
    "    # plt.show()\n",
    "    # print(model.lpa_layer.adj.grad)\n",
    "    optimizer.step()\n",
    "\n",
    "    model.eval()\n",
    "    preds = model(val_input)\n",
    "    loss = criterion(preds[train_size: train_size+val_size], val_labels[train_size: train_size+val_size])\n",
    "    preds = torch.argmax(preds, dim=1)\n",
    "    val_acc = torch.eq(preds[train_size: train_size+val_size], val_labels[train_size: train_size+val_size]).sum() / val_size\n",
    "    print(f'Validation Loss: {loss}\\tValidation Accuracy: {val_acc}')"
   ]
  },
  {
   "cell_type": "code",
   "execution_count": null,
   "metadata": {},
   "outputs": [],
   "source": []
  },
  {
   "cell_type": "code",
   "execution_count": 143,
   "metadata": {},
   "outputs": [
    {
     "name": "stdout",
     "output_type": "stream",
     "text": [
      "tensor(4.6505e-06, dtype=torch.float64)\n"
     ]
    }
   ],
   "source": [
    "print(torch.max(model.lpa_layer.adj.grad))"
   ]
  },
  {
   "cell_type": "code",
   "execution_count": 163,
   "metadata": {},
   "outputs": [
    {
     "name": "stdout",
     "output_type": "stream",
     "text": [
      "Test Accuracy:  tensor(0.4947)\n"
     ]
    }
   ],
   "source": [
    "test_preds = model(test_input)\n",
    "test_preds = torch.argmax(test_preds, dim=1)\n",
    "test_acc = torch.eq(test_preds[-1 * test_size:], test_labels[-1 * test_size:]).sum() / test_size\n",
    "print(\"Test Accuracy: \", test_acc)"
   ]
  },
  {
   "cell_type": "code",
   "execution_count": null,
   "metadata": {},
   "outputs": [],
   "source": []
  }
 ],
 "metadata": {
  "kernelspec": {
   "display_name": "Python 3",
   "language": "python",
   "name": "python3"
  },
  "language_info": {
   "codemirror_mode": {
    "name": "ipython",
    "version": 3
   },
   "file_extension": ".py",
   "mimetype": "text/x-python",
   "name": "python",
   "nbconvert_exporter": "python",
   "pygments_lexer": "ipython3",
   "version": "3.9.7"
  },
  "orig_nbformat": 4
 },
 "nbformat": 4,
 "nbformat_minor": 2
}
